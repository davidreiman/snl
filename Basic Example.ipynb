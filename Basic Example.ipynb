{
 "cells": [
  {
   "cell_type": "code",
   "execution_count": 1,
   "metadata": {},
   "outputs": [],
   "source": [
    "import numpy as np\n",
    "import torch\n",
    "\n",
    "# visualization\n",
    "import matplotlib as mpl\n",
    "import matplotlib.pyplot as plt"
   ]
  },
  {
   "cell_type": "code",
   "execution_count": 2,
   "metadata": {},
   "outputs": [],
   "source": [
    "import pyro\n",
    "from pyro.distributions import Beta, Binomial, HalfCauchy, Normal, Pareto, Uniform\n",
    "from pyro.distributions.util import scalar_like\n",
    "from pyro.infer import MCMC, NUTS, Predictive\n",
    "from pyro.infer.mcmc.util import initialize_model, summary\n",
    "from pyro.util import ignore_experimental_warning"
   ]
  },
  {
   "cell_type": "code",
   "execution_count": 3,
   "metadata": {},
   "outputs": [],
   "source": [
    "import mysbi.models\n",
    "from mysbi.nde import NeuralRatioEstimator\n",
    "from mysbi.sequential import Sequential"
   ]
  },
  {
   "cell_type": "code",
   "execution_count": 4,
   "metadata": {},
   "outputs": [],
   "source": [
    "# remove top and right axis from plots\n",
    "mpl.rcParams['axes.spines.right'] = False\n",
    "mpl.rcParams['axes.spines.top'] = False"
   ]
  },
  {
   "cell_type": "code",
   "execution_count": 5,
   "metadata": {},
   "outputs": [],
   "source": [
    "class MultivariateUniform():\n",
    "    def __init__(self, low, high):\n",
    "        self.dist = torch.distributions.Uniform(low, high)\n",
    "        self.mean = self.dist.mean\n",
    "        \n",
    "    def log_prob(self, x):\n",
    "        return self.dist.log_prob(x).sum(-1)\n",
    "        \n",
    "    def sample(self, it):\n",
    "        return self.dist.sample(it)\n",
    "    \n",
    "        "
   ]
  },
  {
   "cell_type": "code",
   "execution_count": 6,
   "metadata": {},
   "outputs": [],
   "source": [
    "num_dim = 3\n",
    "observation = torch.zeros(1, num_dim)\n",
    "\n",
    "def simulator(parameter_set):\n",
    "    return 1.0 + parameter_set + torch.randn(parameter_set.shape) * 0.1\n"
   ]
  },
  {
   "cell_type": "code",
   "execution_count": 7,
   "metadata": {},
   "outputs": [],
   "source": [
    "def simulation_wrapper(params, sims_per_model=1):\n",
    "    \"\"\"\n",
    "    Returns summary statistics from conductance values in `params`.\n",
    "\n",
    "    Summarizes the output of the HH simulator and converts it to `torch.Tensor`.\n",
    "    \"\"\"\n",
    "    return simulator(params)"
   ]
  },
  {
   "cell_type": "code",
   "execution_count": 8,
   "metadata": {},
   "outputs": [],
   "source": [
    "layers = [['Linear', 2*num_dim, 10], ['ReLU'], ['Linear', 10, 1]]\n",
    "model = mysbi.models.Classifier(layers=layers)\n",
    "optimizer = torch.optim.AdamW(model.parameters())"
   ]
  },
  {
   "cell_type": "code",
   "execution_count": 9,
   "metadata": {},
   "outputs": [],
   "source": [
    "priors = MultivariateUniform(low=-2*torch.ones(num_dim), high=2*torch.ones(num_dim))\n",
    "\n",
    "nre = NeuralRatioEstimator(model)\n",
    "snre = Sequential(priors=priors, obs_data=observation, model=nre, optimizer=optimizer, \n",
    "                  simulator=simulation_wrapper, \n",
    "                  num_initial_samples=300,\n",
    "                  num_samples_per_round=1000)"
   ]
  },
  {
   "cell_type": "code",
   "execution_count": 10,
   "metadata": {},
   "outputs": [
    {
     "name": "stderr",
     "output_type": "stream",
     "text": [
      "Validation Loss: 0.000:   6%|▌         | 11/200 [00:00<00:02, 79.00it/s]\n",
      "Warmup:   0%|          | 0/300 [00:00, ?it/s]"
     ]
    },
    {
     "name": "stdout",
     "output_type": "stream",
     "text": [
      "Training on 255 samples. Validating on 45 samples.\n",
      "Early stopped after 11 epochs\n",
      "Round 1 complete. Time elapsed: 0m 0s. Total time elapsed: 0m 0s.\n",
      "===============================================================\n"
     ]
    },
    {
     "name": "stderr",
     "output_type": "stream",
     "text": [
      "Sample: 100%|██████████| 300/300 [00:01, 186.29it/s, step size=2.39e-01, acc. prob=0.639]\n",
      "Validation Loss: 1.919:   2%|▏         | 3/200 [00:00<00:09, 20.79it/s]"
     ]
    },
    {
     "name": "stdout",
     "output_type": "stream",
     "text": [
      "Training on 1,105 samples. Validating on 195 samples.\n"
     ]
    },
    {
     "name": "stderr",
     "output_type": "stream",
     "text": [
      "Validation Loss: 0.191:  66%|██████▌   | 131/200 [00:06<00:03, 20.61it/s]\n",
      "Warmup:   3%|▎         | 9/300 [00:00, 89.49it/s, step size=1.46e-01, acc. prob=0.676]"
     ]
    },
    {
     "name": "stdout",
     "output_type": "stream",
     "text": [
      "Early stopped after 131 epochs\n",
      "Round 2 complete. Time elapsed: 0m 8s. Total time elapsed: 0m 8s.\n",
      "===============================================================\n"
     ]
    },
    {
     "name": "stderr",
     "output_type": "stream",
     "text": [
      "Sample: 100%|██████████| 300/300 [00:02, 138.13it/s, step size=4.50e-01, acc. prob=0.795]\n",
      "Validation Loss: 0.532:   1%|          | 2/200 [00:00<00:16, 12.09it/s]"
     ]
    },
    {
     "name": "stdout",
     "output_type": "stream",
     "text": [
      "Training on 1,955 samples. Validating on 345 samples.\n"
     ]
    },
    {
     "name": "stderr",
     "output_type": "stream",
     "text": [
      "Validation Loss: 0.420:  14%|█▎        | 27/200 [00:02<00:14, 11.55it/s]\n",
      "Warmup:   4%|▎         | 11/300 [00:00, 104.48it/s, step size=3.98e-01, acc. prob=0.727]"
     ]
    },
    {
     "name": "stdout",
     "output_type": "stream",
     "text": [
      "Early stopped after 27 epochs\n",
      "Round 3 complete. Time elapsed: 0m 5s. Total time elapsed: 0m 13s.\n",
      "===============================================================\n"
     ]
    },
    {
     "name": "stderr",
     "output_type": "stream",
     "text": [
      "Sample: 100%|██████████| 300/300 [00:02, 130.62it/s, step size=2.94e-01, acc. prob=0.845]\n",
      "Validation Loss: 0.549:   0%|          | 1/200 [00:00<00:24,  8.24it/s]"
     ]
    },
    {
     "name": "stdout",
     "output_type": "stream",
     "text": [
      "Training on 2,805 samples. Validating on 495 samples.\n"
     ]
    },
    {
     "name": "stderr",
     "output_type": "stream",
     "text": [
      "Validation Loss: 0.409:  18%|█▊        | 36/200 [00:04<00:20,  8.09it/s]\n",
      "Warmup:   5%|▌         | 15/300 [00:00, 132.75it/s, step size=5.77e-02, acc. prob=0.704]"
     ]
    },
    {
     "name": "stdout",
     "output_type": "stream",
     "text": [
      "Early stopped after 36 epochs\n",
      "Round 4 complete. Time elapsed: 0m 7s. Total time elapsed: 0m 19s.\n",
      "===============================================================\n"
     ]
    },
    {
     "name": "stderr",
     "output_type": "stream",
     "text": [
      "Sample: 100%|██████████| 300/300 [00:01, 150.46it/s, step size=3.10e-01, acc. prob=0.834]\n",
      "Validation Loss: 0.585:   0%|          | 1/200 [00:00<00:30,  6.54it/s]"
     ]
    },
    {
     "name": "stdout",
     "output_type": "stream",
     "text": [
      "Training on 3,655 samples. Validating on 645 samples.\n"
     ]
    },
    {
     "name": "stderr",
     "output_type": "stream",
     "text": [
      "Validation Loss: 0.503:  14%|█▎        | 27/200 [00:04<00:27,  6.23it/s]\n",
      "Warmup:   6%|▌         | 18/300 [00:00, 178.51it/s, step size=1.57e-01, acc. prob=0.762]"
     ]
    },
    {
     "name": "stdout",
     "output_type": "stream",
     "text": [
      "Early stopped after 27 epochs\n",
      "Round 5 complete. Time elapsed: 0m 6s. Total time elapsed: 0m 26s.\n",
      "===============================================================\n"
     ]
    },
    {
     "name": "stderr",
     "output_type": "stream",
     "text": [
      "Sample: 100%|██████████| 300/300 [00:02, 129.17it/s, step size=2.83e-01, acc. prob=0.862]\n",
      "  0%|          | 0/200 [00:00<?, ?it/s]"
     ]
    },
    {
     "name": "stdout",
     "output_type": "stream",
     "text": [
      "Training on 4,505 samples. Validating on 795 samples.\n"
     ]
    },
    {
     "name": "stderr",
     "output_type": "stream",
     "text": [
      "Validation Loss: 0.634:   8%|▊         | 16/200 [00:03<00:39,  4.65it/s]\n",
      "Warmup:   4%|▍         | 13/300 [00:00, 126.45it/s, step size=1.46e-01, acc. prob=0.713]"
     ]
    },
    {
     "name": "stdout",
     "output_type": "stream",
     "text": [
      "Early stopped after 16 epochs\n",
      "Round 6 complete. Time elapsed: 0m 6s. Total time elapsed: 0m 31s.\n",
      "===============================================================\n"
     ]
    },
    {
     "name": "stderr",
     "output_type": "stream",
     "text": [
      "Sample: 100%|██████████| 300/300 [00:02, 139.92it/s, step size=5.27e-01, acc. prob=0.817]\n",
      "  0%|          | 0/200 [00:00<?, ?it/s]"
     ]
    },
    {
     "name": "stdout",
     "output_type": "stream",
     "text": [
      "Training on 5,355 samples. Validating on 945 samples.\n"
     ]
    },
    {
     "name": "stderr",
     "output_type": "stream",
     "text": [
      "Validation Loss: 0.735:   8%|▊         | 17/200 [00:04<00:45,  4.03it/s]\n",
      "Warmup:   6%|▌         | 18/300 [00:00, 178.00it/s, step size=4.48e-02, acc. prob=0.714]"
     ]
    },
    {
     "name": "stdout",
     "output_type": "stream",
     "text": [
      "Early stopped after 17 epochs\n",
      "Round 7 complete. Time elapsed: 0m 6s. Total time elapsed: 0m 38s.\n",
      "===============================================================\n"
     ]
    },
    {
     "name": "stderr",
     "output_type": "stream",
     "text": [
      "Sample: 100%|██████████| 300/300 [00:02, 131.78it/s, step size=2.82e-01, acc. prob=0.892]\n",
      "  0%|          | 0/200 [00:00<?, ?it/s]"
     ]
    },
    {
     "name": "stdout",
     "output_type": "stream",
     "text": [
      "Training on 6,205 samples. Validating on 1,095 samples.\n"
     ]
    },
    {
     "name": "stderr",
     "output_type": "stream",
     "text": [
      "Validation Loss: 0.932:   8%|▊         | 16/200 [00:04<00:51,  3.56it/s]\n",
      "Warmup:   5%|▌         | 15/300 [00:00, 126.17it/s, step size=3.27e-02, acc. prob=0.692]"
     ]
    },
    {
     "name": "stdout",
     "output_type": "stream",
     "text": [
      "Early stopped after 16 epochs\n",
      "Round 8 complete. Time elapsed: 0m 7s. Total time elapsed: 0m 45s.\n",
      "===============================================================\n"
     ]
    },
    {
     "name": "stderr",
     "output_type": "stream",
     "text": [
      "Sample: 100%|██████████| 300/300 [00:01, 175.51it/s, step size=4.59e-01, acc. prob=0.783]\n",
      "  0%|          | 0/200 [00:00<?, ?it/s]"
     ]
    },
    {
     "name": "stdout",
     "output_type": "stream",
     "text": [
      "Training on 7,055 samples. Validating on 1,245 samples.\n"
     ]
    },
    {
     "name": "stderr",
     "output_type": "stream",
     "text": [
      "Validation Loss: 0.985:   6%|▌         | 11/200 [00:03<01:01,  3.06it/s]\n",
      "Warmup:   6%|▌         | 18/300 [00:00, 177.92it/s, step size=4.75e-01, acc. prob=0.757]"
     ]
    },
    {
     "name": "stdout",
     "output_type": "stream",
     "text": [
      "Early stopped after 11 epochs\n",
      "Round 9 complete. Time elapsed: 0m 5s. Total time elapsed: 0m 50s.\n",
      "===============================================================\n"
     ]
    },
    {
     "name": "stderr",
     "output_type": "stream",
     "text": [
      "Sample: 100%|██████████| 300/300 [00:02, 139.69it/s, step size=3.28e-01, acc. prob=0.874]\n",
      "  0%|          | 0/200 [00:00<?, ?it/s]"
     ]
    },
    {
     "name": "stdout",
     "output_type": "stream",
     "text": [
      "Training on 7,905 samples. Validating on 1,395 samples.\n"
     ]
    },
    {
     "name": "stderr",
     "output_type": "stream",
     "text": [
      "Validation Loss: 1.025:   6%|▋         | 13/200 [00:04<01:07,  2.77it/s]"
     ]
    },
    {
     "name": "stdout",
     "output_type": "stream",
     "text": [
      "Early stopped after 13 epochs\n",
      "Round 10 complete. Time elapsed: 0m 7s. Total time elapsed: 0m 57s.\n",
      "===============================================================\n"
     ]
    },
    {
     "name": "stderr",
     "output_type": "stream",
     "text": [
      "\n"
     ]
    }
   ],
   "source": [
    "snre.run()"
   ]
  },
  {
   "cell_type": "code",
   "execution_count": 11,
   "metadata": {},
   "outputs": [],
   "source": [
    "import corner"
   ]
  },
  {
   "cell_type": "code",
   "execution_count": 20,
   "metadata": {},
   "outputs": [
    {
     "name": "stderr",
     "output_type": "stream",
     "text": [
      "Sample: 100%|██████████| 5200/5200 [00:29, 177.36it/s, step size=5.52e-01, acc. prob=0.795]\n"
     ]
    }
   ],
   "source": [
    "posterior_samples = snre.hmc(num_samples=30000, walker_steps=5000, burn_in=200)"
   ]
  },
  {
   "cell_type": "code",
   "execution_count": 21,
   "metadata": {},
   "outputs": [
    {
     "data": {
      "image/png": "[encoded data removed]",
      "text/plain": [
       "<Figure size 547.2x547.2 with 9 Axes>"
      ]
     },
     "metadata": {
      "needs_background": "light"
     },
     "output_type": "display_data"
    }
   ],
   "source": [
    "corner.corner(posterior_samples, \n",
    "#               range=[(-2, 2) for i in range(num_dim)], \n",
    "                    truths=-torch.ones(num_dim));"
   ]
  },
  {
   "cell_type": "code",
   "execution_count": null,
   "metadata": {},
   "outputs": [],
   "source": []
  }
 ],
 "metadata": {
  "kernelspec": {
   "display_name": "Python 3",
   "language": "python",
   "name": "python3"
  },
  "language_info": {
   "codemirror_mode": {
    "name": "ipython",
    "version": 3
   },
   "file_extension": ".py",
   "mimetype": "text/x-python",
   "name": "python",
   "nbconvert_exporter": "python",
   "pygments_lexer": "ipython3",
   "version": "3.8.3"
  }
 },
 "nbformat": 4,
 "nbformat_minor": 4
}
